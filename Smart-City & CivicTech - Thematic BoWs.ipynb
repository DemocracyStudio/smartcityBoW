{
 "cells": [
  {
   "cell_type": "markdown",
   "metadata": {},
   "source": [
    "# Creating Bag-of-Words for Urban Science :\n",
    "\n",
    "- smartcity (append smartgrid, iot, urban planning, urban development, innovation)\n",
    "- civictech (append govtech, opendata, e-citizenship, empowerment)\n",
    "- infrastructure (append transportation, mobility)\n",
    "- sustainability (append environment, energy)\n",
    "- governance (append democracy2.0 + law-related cross-field words)\n",
    "- entrepreneurship (append economy + business-related cross-field words)\n",
    "\n",
    "To make my BoW tighter to their topics, I considered many cross-field words, spread in different BoW, and merged them as :\n",
    "- law => governance\n",
    "- business => Entrepreneurship\n",
    "- startup => Entrepreneurship\n",
    "- technology => smartcity\n",
    "\n",
    "Process: \n",
    "1. Scraping tweets on specific hashtag\n",
    "2. NLP process : Cleaning, Lemmatizing, Tokenizing\n",
    "3. Creating BoWs of representative unique words in each topic\n",
    "\n",
    "=> these BoW will then be used as lexicons, to evaluate the prevalence of this or that urban science topic in a series of tweet or a text.\n",
    "\n",
    "=> words in each BoW is not exclusive, it means the same word from a text can be counted more than once. \n",
    "\n",
    "=> this BoW have been created to extract features from text content (how much this text talk about this topic) it has not been developed for mono-label classification. However, it can serve to multi-label classification."
   ]
  },
  {
   "cell_type": "code",
   "execution_count": 1,
   "metadata": {},
   "outputs": [],
   "source": [
    "import pandas as pd\n",
    "import numpy as np\n",
    "\n",
    "import nltk\n",
    "from nltk.tokenize import word_tokenize\n",
    "from nltk.stem.wordnet import WordNetLemmatizer\n",
    "from nltk.corpus import stopwords\n",
    "from nltk.corpus import wordnet as wn\n",
    "from nltk.probability import FreqDist"
   ]
  },
  {
   "cell_type": "code",
   "execution_count": 2,
   "metadata": {},
   "outputs": [],
   "source": [
    "civictech = pd.read_csv('/Users/juliencarbonnell/Desktop/Thèse/DONNÉES/1.Twitter/Bags of Words/civictech.csv', sep=';')\n",
    "democracy2 = pd.read_csv('/Users/juliencarbonnell/Desktop/Thèse/DONNÉES/1.Twitter/Bags of Words/democracy2.0.csv')\n",
    "ecitizenship = pd.read_csv('/Users/juliencarbonnell/Desktop/Thèse/DONNÉES/1.Twitter/Bags of Words/ecitizenship.csv')\n",
    "economy = pd.read_csv('/Users/juliencarbonnell/Desktop/Thèse/DONNÉES/1.Twitter/Bags of Words/economy.csv')\n",
    "empowerment = pd.read_csv('/Users/juliencarbonnell/Desktop/Thèse/DONNÉES/1.Twitter/Bags of Words/empowerment.csv')\n",
    "energy = pd.read_csv('/Users/juliencarbonnell/Desktop/Thèse/DONNÉES/1.Twitter/Bags of Words/energy.csv', sep=';')\n",
    "entrepreneurship = pd.read_csv('/Users/juliencarbonnell/Desktop/Thèse/DONNÉES/1.Twitter/Bags of Words/entrepreneurship.csv')\n",
    "environment = pd.read_csv('/Users/juliencarbonnell/Desktop/Thèse/DONNÉES/1.Twitter/Bags of Words/environment.csv')\n",
    "governance = pd.read_csv('/Users/juliencarbonnell/Desktop/Thèse/DONNÉES/1.Twitter/Bags of Words/governance.csv')\n",
    "govtech = pd.read_csv('/Users/juliencarbonnell/Desktop/Thèse/DONNÉES/1.Twitter/Bags of Words/govtech.csv')\n",
    "infrastructure = pd.read_csv('/Users/juliencarbonnell/Desktop/Thèse/DONNÉES/1.Twitter/Bags of Words/infrastructure.csv')\n",
    "innovation = pd.read_csv('/Users/juliencarbonnell/Desktop/Thèse/DONNÉES/1.Twitter/Bags of Words/innovation.csv')\n",
    "iot = pd.read_csv('/Users/juliencarbonnell/Desktop/Thèse/DONNÉES/1.Twitter/Bags of Words/iot.csv')\n",
    "mobility = pd.read_csv('/Users/juliencarbonnell/Desktop/Thèse/DONNÉES/1.Twitter/Bags of Words/mobility.csv')\n",
    "opendata = pd.read_csv('/Users/juliencarbonnell/Desktop/Thèse/DONNÉES/1.Twitter/Bags of Words/opendata.csv')\n",
    "smartcity = pd.read_csv('/Users/juliencarbonnell/Desktop/Thèse/DONNÉES/1.Twitter/Bags of Words/smartcity.csv')\n",
    "smartgrid = pd.read_csv('/Users/juliencarbonnell/Desktop/Thèse/DONNÉES/1.Twitter/Bags of Words/smartgrid.csv')\n",
    "sustainability = pd.read_csv('/Users/juliencarbonnell/Desktop/Thèse/DONNÉES/1.Twitter/Bags of Words/sustainability.csv')\n",
    "transportation = pd.read_csv('/Users/juliencarbonnell/Desktop/Thèse/DONNÉES/1.Twitter/Bags of Words/transportation.csv', sep=';')\n",
    "urbandevelopment = pd.read_csv('/Users/juliencarbonnell/Desktop/Thèse/DONNÉES/1.Twitter/Bags of Words/urbandevelopment.csv')\n",
    "urbanplanning = pd.read_csv('/Users/juliencarbonnell/Desktop/Thèse/DONNÉES/1.Twitter/Bags of Words/urbanplanning.csv')"
   ]
  },
  {
   "cell_type": "markdown",
   "metadata": {},
   "source": [
    "#### Will work from list to result in lexicons under list format (no need df)"
   ]
  },
  {
   "cell_type": "code",
   "execution_count": 3,
   "metadata": {},
   "outputs": [],
   "source": [
    "civictech = civictech['content'].tolist()\n",
    "democracy2 = democracy2['content'].tolist()\n",
    "ecitizenship = ecitizenship['content'].tolist()\n",
    "economy = economy['content'].tolist()\n",
    "empowerment = empowerment['content'].tolist()\n",
    "energy = energy['content'].tolist()\n",
    "entrepreneurship = entrepreneurship['content'].tolist()\n",
    "environment = environment['content'].tolist()\n",
    "governance = governance['content'].tolist()\n",
    "govtech = govtech['content'].tolist()\n",
    "infrastructure = infrastructure['content'].tolist()\n",
    "innovation = innovation['content'].tolist()\n",
    "iot = iot['content'].tolist()\n",
    "mobility = mobility['content'].tolist()\n",
    "opendata = opendata['content'].tolist()\n",
    "smartcity = smartcity['content'].tolist()\n",
    "smartgrid = smartgrid['content'].tolist()\n",
    "sustainability = sustainability['content'].tolist()\n",
    "transportation = transportation['content'].tolist()\n",
    "urbandevelopment = urbandevelopment['content'].tolist()\n",
    "urbanplanning = urbanplanning['content'].tolist()"
   ]
  },
  {
   "cell_type": "code",
   "execution_count": 4,
   "metadata": {},
   "outputs": [],
   "source": [
    "civictech = str(civictech).strip('[]')\n",
    "democracy2 = str(democracy2).strip('[]')\n",
    "ecitizenship = str(ecitizenship).strip('[]')\n",
    "economy = str(economy).strip('[]')\n",
    "empowerment = str(empowerment).strip('[]')\n",
    "energy = str(energy).strip('[]')\n",
    "entrepreneurship = str(entrepreneurship).strip('[]')\n",
    "environment = str(environment).strip('[]')\n",
    "governance = str(governance).strip('[]')\n",
    "govtech = str(govtech).strip('[]')\n",
    "infrastructure = str(infrastructure).strip('[]')\n",
    "innovation = str(innovation).strip('[]')\n",
    "iot = str(iot).strip('[]')\n",
    "mobility = str(mobility).strip('[]')\n",
    "opendata = str(opendata).strip('[]')\n",
    "smartcity = str(smartcity).strip('[]')\n",
    "smartgrid = str(smartgrid).strip('[]')\n",
    "sustainability = str(sustainability).strip('[]')\n",
    "transportation = str(transportation).strip('[]')\n",
    "urbandevelopment = str(urbandevelopment).strip('[]')\n",
    "urbanplanning = str(urbanplanning).strip('[]')"
   ]
  },
  {
   "cell_type": "code",
   "execution_count": 5,
   "metadata": {},
   "outputs": [],
   "source": [
    "civictech = civictech.lower()\n",
    "democracy2 = democracy2.lower()\n",
    "ecitizenship = ecitizenship.lower()\n",
    "economy = economy.lower()\n",
    "empowerment = empowerment.lower()\n",
    "energy = energy.lower()\n",
    "entrepreneurship = entrepreneurship.lower()\n",
    "environment = environment.lower()\n",
    "governance = governance.lower()\n",
    "govtech = govtech.lower()\n",
    "infrastructure = infrastructure.lower()\n",
    "innovation = innovation.lower()\n",
    "iot = iot.lower()\n",
    "mobility = mobility.lower()\n",
    "opendata = opendata.lower()\n",
    "smartcity = smartcity.lower()\n",
    "smartgrid = smartgrid.lower()\n",
    "sustainability = sustainability.lower()\n",
    "transportation = transportation.lower()\n",
    "urbandevelopment = urbandevelopment.lower()\n",
    "urbanplanning = urbanplanning.lower()"
   ]
  },
  {
   "cell_type": "code",
   "execution_count": 6,
   "metadata": {},
   "outputs": [],
   "source": [
    "civictech = WordNetLemmatizer().lemmatize(civictech)\n",
    "democracy2 = WordNetLemmatizer().lemmatize(democracy2)\n",
    "ecitizenship = WordNetLemmatizer().lemmatize(ecitizenship)\n",
    "economy = WordNetLemmatizer().lemmatize(economy)\n",
    "empowerment = WordNetLemmatizer().lemmatize(empowerment)\n",
    "energy = WordNetLemmatizer().lemmatize(energy)\n",
    "entrepreneurship = WordNetLemmatizer().lemmatize(entrepreneurship)\n",
    "environment = WordNetLemmatizer().lemmatize(environment)\n",
    "governance = WordNetLemmatizer().lemmatize(governance)\n",
    "govtech = WordNetLemmatizer().lemmatize(govtech)\n",
    "infrastructure = WordNetLemmatizer().lemmatize(infrastructure)\n",
    "innovation = WordNetLemmatizer().lemmatize(innovation)\n",
    "iot = WordNetLemmatizer().lemmatize(iot)\n",
    "mobility = WordNetLemmatizer().lemmatize(mobility)\n",
    "opendata = WordNetLemmatizer().lemmatize(opendata)\n",
    "smartcity = WordNetLemmatizer().lemmatize(smartcity)\n",
    "smartgrid = WordNetLemmatizer().lemmatize(smartgrid)\n",
    "sustainability = WordNetLemmatizer().lemmatize(sustainability)\n",
    "transportation = WordNetLemmatizer().lemmatize(transportation)\n",
    "urbandevelopment = WordNetLemmatizer().lemmatize(urbandevelopment)\n",
    "urbanplanning = WordNetLemmatizer().lemmatize(urbanplanning)"
   ]
  },
  {
   "cell_type": "code",
   "execution_count": 7,
   "metadata": {},
   "outputs": [],
   "source": [
    "civictech = word_tokenize(civictech)\n",
    "democracy2 = word_tokenize(democracy2)\n",
    "ecitizenship = word_tokenize(ecitizenship)\n",
    "economy = word_tokenize(economy)\n",
    "empowerment = word_tokenize(empowerment)\n",
    "energy = word_tokenize(energy)\n",
    "entrepreneurship = word_tokenize(entrepreneurship)\n",
    "environment = word_tokenize(environment)\n",
    "governance = word_tokenize(governance)\n",
    "govtech = word_tokenize(govtech)\n",
    "infrastructure = word_tokenize(infrastructure)\n",
    "innovation = word_tokenize(innovation)\n",
    "iot = word_tokenize(iot)\n",
    "mobility = word_tokenize(mobility)\n",
    "opendata = word_tokenize(opendata)\n",
    "smartcity = word_tokenize(smartcity)\n",
    "smartgrid = word_tokenize(smartgrid)\n",
    "sustainability = word_tokenize(sustainability)\n",
    "transportation = word_tokenize(transportation)\n",
    "urbandevelopment = word_tokenize(urbandevelopment)\n",
    "urbanplanning = word_tokenize(urbanplanning)"
   ]
  },
  {
   "cell_type": "code",
   "execution_count": 8,
   "metadata": {},
   "outputs": [],
   "source": [
    "a = set(stopwords.words('english'))\n",
    "\n",
    "civictech = [word for word in civictech if word not in a]\n",
    "democracy2 = [word for word in democracy2 if word not in a]\n",
    "ecitizenship = [word for word in ecitizenship if word not in a]\n",
    "economy = [word for word in economy if word not in a]\n",
    "empowerment = [word for word in empowerment if word not in a]\n",
    "energy = [word for word in energy if word not in a]\n",
    "entrepreneurship = [word for word in entrepreneurship if word not in a]\n",
    "environment = [word for word in environment if word not in a]\n",
    "governance = [word for word in governance if word not in a]\n",
    "govtech = [word for word in govtech if word not in a]\n",
    "infrastructure = [word for word in infrastructure if word not in a]\n",
    "innovation = [word for word in innovation if word not in a]\n",
    "iot = [word for word in iot if word not in a]\n",
    "mobility = [word for word in mobility if word not in a]\n",
    "opendata = [word for word in opendata if word not in a]\n",
    "smartcity = [word for word in smartcity if word not in a]\n",
    "smartgrid = [word for word in smartgrid if word not in a]\n",
    "sustainability = [word for word in sustainability if word not in a]\n",
    "transportation = [word for word in transportation if word not in a]\n",
    "urbandevelopment = [word for word in urbandevelopment if word not in a]\n",
    "urbanplanning = [word for word in urbanplanning if word not in a]"
   ]
  },
  {
   "cell_type": "code",
   "execution_count": 9,
   "metadata": {},
   "outputs": [],
   "source": [
    "b = [\"@\",\"the\",'en','für',\"https\",'on','à','n','t','le','\\\\n\\\\nhttps',\"de\",'?','us','et','\"',\"la\",'les','pour','des','\\\\nhttps','+','ll',\"com\",\"#\",'&','!',\"gt\",\"'re\",\"\\n\",\"amp\",\"als\",\"'s\",\"als\", \"etc\",'\\n', \"\\\\n\",'\\\\n\\\\n',']','[','.','...','“',',',\"'\",\"''\",'th','…','“',':',\"com\",\"#\",'&','!',\"gt\",\"'re\",\"\\n\",\"amp\",\"als\",\"'s\",\"als\", \"etc\",'\\n',\"\\\\n\",'\\\\n\\\\n',']','[','.','...','“',',',\"'\",\"''\",'th','…','“',':',\",\", \".\", \";\", \" \", \":\", \"'\", \"als\", \"&\", \"etc\", \"(\", \")\", \"/\", \"[1-9]\", \"_\", \"-\", \"’\", \"--\", \"``\", \"'s\", \"\"]\n",
    "\n",
    "civictech = [word for word in civictech if word not in b]\n",
    "democracy2 = [word for word in democracy2 if word not in b]\n",
    "ecitizenship = [word for word in ecitizenship if word not in b]\n",
    "economy = [word for word in economy if word not in b]\n",
    "empowerment = [word for word in empowerment if word not in b]\n",
    "energy = [word for word in energy if word not in b]\n",
    "entrepreneurship = [word for word in entrepreneurship if word not in b]\n",
    "environment = [word for word in environment if word not in b]\n",
    "governance = [word for word in governance if word not in b]\n",
    "govtech = [word for word in govtech if word not in b]\n",
    "infrastructure = [word for word in infrastructure if word not in b]\n",
    "innovation = [word for word in innovation if word not in b]\n",
    "iot = [word for word in iot if word not in b]\n",
    "mobility = [word for word in mobility if word not in b]\n",
    "opendata = [word for word in opendata if word not in b]\n",
    "smartcity = [word for word in smartcity if word not in b]\n",
    "smartgrid = [word for word in smartgrid if word not in b]\n",
    "sustainability = [word for word in sustainability if word not in b]\n",
    "transportation = [word for word in transportation if word not in b]\n",
    "urbandevelopment = [word for word in urbandevelopment if word not in b]\n",
    "urbanplanning = [word for word in urbanplanning if word not in b]"
   ]
  },
  {
   "cell_type": "code",
   "execution_count": 149,
   "metadata": {},
   "outputs": [],
   "source": [
    "smartcity = ['digitaltransformation','2.0','smartcity','iot','smart','city','ai','smartcities','innovation','cities','5g','data','bigdata','technology','future','tech','digital','digitaltransformation','machinelearning','analytics','solutions','cloud','datascience','network','security','cybersecurity','urban','people','artificialintelligence','smarthome','internetofthings','autonomous','smart','technologies','robotics','software','research','monitoring','street','sensors','futureofwork','planning','governance','transportation','safecity','building','robot','industry40','startups','development','smartthings','urbanplanning','connected','internet','sustainable','waste','emergingtech','programming','environment','safety','lighting','safety','roads','workplaces','smartbuildings','driverless','selfdriving','smartmobility','futureworkspace','digitalcity','deeplearning','datadriven','application','robots','publicsafety','energyefficiency','labgov','citizens','transformation','controlroom','publicspace','airquality','efficiency','era','smarter','urbaninnovation','internetofeverything','newtown','iotforall','construction','privacy','surveillance','drones','smartbuilding','smartgrid','smartgrids','cybersecurity','policy','powergrid','smartcities','iot','electricity','smartmetering','smartmeters','technology','microgrids','microgrid','smartcity','powergrids','iot','ai','machinelearning','bigdata','serverless','cybersecurity','devcommunity','programming','coding','cloudcomputing','codenewbie','100daysofmlcode','womenintech','innovation','deeplearning','security','machine','digital','industrial','artificial','computing','robot','wearables','artificial','networks','drones','connectivity','wireless','urbanplanning','city','urban','cities','smartcities','architecture','urbanism','urbandesign','cityplanning','urbanization','futurecities','urbaninnovation','bigdata','cityplanner','architects','citylab','urbanplanner','urbanplanners','cityplanners','urbandata','townplanning','planners','neighborhoods','sustainablecities','tacticalurbanism','urbanmobility','pedestrians','neighborhood','citiesforpeople','neighbourhood','rethinkreplace','constructionmanagement','suburban','futurecity','cityvisionnaire','smarttechnology','citygoals','civilengineering','digitaltwin','bigdata','digitaltransformation','pedestrian-friendly','surveillance','technologies','urbandevelopment','cities','urban','urbanplanning'] "
   ]
  },
  {
   "cell_type": "code",
   "execution_count": 150,
   "metadata": {},
   "outputs": [
    {
     "data": {
      "text/plain": [
       "150"
      ]
     },
     "execution_count": 150,
     "metadata": {},
     "output_type": "execute_result"
    }
   ],
   "source": [
    "len(set(smartcity))"
   ]
  },
  {
   "cell_type": "code",
   "execution_count": 139,
   "metadata": {},
   "outputs": [],
   "source": [
    "civictech = ['aiethics','empowerment','learned','communityengagement','communitydevelopment','nonprofit','notforprofit','collaboration','vulnerable','diversity','egov','egovernance','inclusion','ethics','social','engagement','crowdsourcing','humanrights','citizenship','civic','opendata','referendum','rights','citizens','open','social','people','sharingeconomy','hack','citizens','communities','civictech','inequalities','equity','participatory','social','youthempowerment','govtech','localgov','civic','stateandlocal','community','governmentit','statelocalit','opendata','sharing','including','volunteer','social','people','shared','learn','opengov','localgovernment','education','hackathon','civictechto','techforgood','discussion','communities','local','digitalgov','future','online','governments','webmapping','capacity','accessibility','discuss','ethics','citizens','together','initiative','transparency','data4good','publicinteresttech','democracy','volunteers','society','makers','ecitizenship','eresidency','citizenship','egovernment','esafety','digitaltransformation','policy','social','technology','future','citizen','ecivility','digitaleconomy','ideagov','egov','people','edemocracy','eparticipation','education','citizens','progressive','security','ecitizenship','inclusive','watch','startups','concept','digitalnation','netgov','app','privacy','egovernance','tool','democratic','eublockchain','digitaleu','digitalnomad','apps','residents','populationeu','migrationpolicy','migrationsystem','migration','voted','govtech','smartcities','humandevelopment','erisks','ecitizen','artificial','intelligence','opendata','empowerment','leadership','growth','success','youth','wisdom','education','relationship','powerinpurpose','community','beyondlimits','powerwithin','support','empower','empowering','equality','enlightment','selfdiscovery','confidence','selfempowerment','leaders','forward','diversity','empowered','successmindset','cybersecurity','government','security','technology','opendata','open','openscience','opensource','opendataday','community','citizenscience','citizen','citizenship','openaccess','transparence','openbanking','womenwhocode','openapis','policy','grants','decisions','institutions','opengov','social','busopendata','datadriven','citizen','openstreetmap','researchdata','engagement','citizens']"
   ]
  },
  {
   "cell_type": "code",
   "execution_count": 140,
   "metadata": {},
   "outputs": [
    {
     "data": {
      "text/plain": [
       "150"
      ]
     },
     "execution_count": 140,
     "metadata": {},
     "output_type": "execute_result"
    }
   ],
   "source": [
    "len(set(civictech))"
   ]
  },
  {
   "cell_type": "code",
   "execution_count": 135,
   "metadata": {},
   "outputs": [],
   "source": [
    "infrastructure = ['supply','platform','blockchain','system','internet','battery','batterystorage','energystorage','mobility','storage','blockchain','serverless','grids','blockchain','standards','realestate','construction','driverless','selfdriving','smartmobility','transportation','roads', 'building','traffic','autonomousvehicles','streets','platform','transportation','road','publicspace','realestate','monuments','housing','selfdrivingcars','high-speed','real-estate','mobility','highways','transportation','transport','automotive','transit','buses','cars','futureofmobility','car','travel','publictransport','autonomous','bus','auto','shared','traffic','delivery','emissions','5g','services','connectivity','van','trucks','vehicles','commute','electricvehicles','smartmobility','vehicle','logistics','multimodal','connected','metropolitan','efficiency','monitoring','providers','mobile','futurride','autonomousvehicle','engineer','seat','robotics','parking','cycling','driver','flying','rail','moving','wheelchair','automobile','walks','electricvehicle','electriccars','platform','cctv','drivers','driverless','systems','roads','drones','aviation','selfdriving','robots','electriccar','device','bike','autos','urbanmobility','speed','selfdrivingcars','network','street','urbanplanning','autocar','drive','electrification','streets','driverlesscars','bicycle','zero-emission','engineering','artificialintelligence','emobility','fleet','scooters','bikes','journey','manufacturers','route','logistics','driver','trucking','delivery','shipping','traffic','transport','freight','rentals','road','drivers','bus','mobility','rail','cargo','cars','trucks','trucker','fleet','mechanic','infrastructure','railways','diesel','taxi','truckdriver','truckers','shipments','driving','flights','pickup','airfreight','intelligentlogistics','bicycle','cycling','port','wheels','motors','machinery','ferry','infrastructure','bridge','network','architecture','building','construction','transport','metro','roads','highways','railways','realestate','housing','train','civilengineering','airport','station','connectivity','stations','tunnel','airports','equipment','bridges','km','electrical','highway','tunnels','road']"
   ]
  },
  {
   "cell_type": "code",
   "execution_count": 136,
   "metadata": {},
   "outputs": [
    {
     "data": {
      "text/plain": [
       "150"
      ]
     },
     "execution_count": 136,
     "metadata": {},
     "output_type": "execute_result"
    }
   ],
   "source": [
    "len(set(infrastructure))"
   ]
  },
  {
   "cell_type": "code",
   "execution_count": 129,
   "metadata": {},
   "outputs": [],
   "source": [
    "sustainability = ['resource','resources','sustainablefinance','cyberresilience','recycling','resilient','batteries','emission','resilience','energytransition','sustainability','biodiversity','sustainabledevelopment','resources','sustainableurbanplanning','sustainabletransport','sustainable','environment','climatechange','energy','climate','innovation','circulareconomy','environmental','ecofriendly','nature','planet','carbon','recycling','climateaction','plastic','renewableenergy','zerowaste','water','waste','solar','agriculture','recycle','savetheplanet','pollution','emissions','sustainablefashion','hydrogen','eco','sustainableliving','reuse','clean','recycled','greenliving','renewable','circular','gogreen','biodiversity','sustainable','renewables','climatecrisis','organic','eco-friendly','earth','sustainabledevelopment','electric','electricity','efficiency','electricvehicles','recyclable','footprint','sustainablefinance','ocean','greener','co2','plasticfree','climateemergency','greenenergy','waterconservation','carbonfootprint','greenbuilding','energytransition','sustainablity','consumption','globalwarming','resilience','reusable','battery','decompose','aquaculture','oil','compost','circularity','plastics','environment','ecoconscious','savetheplanet','green_action','eco-outreach','eco-friendly','environmental_activism','climateactivism','energyefficiency','agtech','reduction','lessismore','responsibility','🌍','cleanup','cleantech','ethical','sustainably','ecofashion','foodtech','emobility','ecosystem','passivehouse','farmtotable','nature','wildlife','planet','ecofriendly','trees','conservation','climatecrisis','savetheplanet','clean','recycle','natural','biodiversity','tree','plants','emissions','reduce','ecology','zerowaste','forests','globalwarming','garden','species','gogreen','farming','agriculture','eco','plasticpollution','soil','greener','plasticfree','farmers','extinction','reuse','recycled','renewableenergy','circulareconomy','environmentally','deforestation','oceans','fuel','naturelovers','microplastics','airpollution','rivers','plastics','renewables','climateemergency','gas','sustainablefashion','environmentaljustice','eco-friendly','bees','fossil','wastewater','fornature','wildfires','greenhouse','ecosystems','renewables','oilandgas','hydrogen','cleanenergy','greenspaces','resilience','climateemergency','sustainablemobility','sustainabledevelopment','naturebasedsolutions','energyefficiency','actonclimate','solar','renewableenergy','alternativeenergy','solarpower','sustainable','environment','solarpanels','solarpv','scienceandenvironment','solarsystems','solarenergy','energymanagement','greennewdeal','solarenergy']"
   ]
  },
  {
   "cell_type": "code",
   "execution_count": 130,
   "metadata": {},
   "outputs": [
    {
     "data": {
      "text/plain": [
       "150"
      ]
     },
     "execution_count": 130,
     "metadata": {},
     "output_type": "execute_result"
    }
   ],
   "source": [
    "len(set(sustainability))"
   ]
  },
  {
   "cell_type": "code",
   "execution_count": 121,
   "metadata": {},
   "outputs": [],
   "source": [
    "governance = ['partnership','strategies','leadership','responsibility','regulations','ceo','policy','democracy2.0','elections','voter','collaboration','gov','governance','planning','management','localgov','project','partnership','partners','partner','leader','leaders','politicalparties','administration','decentralized','democracy2.0','political','society','minister','vision','crossbordercooperation','political','politics','democratic','government','politicians','elections','voter','public','commonwealth','politicalprogress','voting','debate','national','votingawareness','president','mayor','governance','parliament','campaign','liquiddemocracy','voters','brigade','constitutional','law','country','legalhack','decentralization','representatives','communityactivity','republican','policing','policy','policies','administration','governance','leadership','management','security','cybersecurity','ceo','corpgov','government','public','strategy','corruption','democracy','boardofdirectors','cio','policy','technology','leaders','boards','role','members','report','planning','throwback','organizations','national','directorship','structures','trust','directors','decentralized','countries','chair','discussion','conference','transparency','compensationcommittee','auditcommittee','cto','visionarytalks','riskmanagement','organisations','office','legal','regulations','audit','insights','corporategovernance','organization','voting','governing','organisation','policies','project','executive','responsible','leader','survey','interview','approach','staff','benefits','recruitment','regulatory','reporting','severity','obstacle','presidential','country','elections','institutions','alternative','digitaltransformation','freedom','nation','datavault','datawarehouse','regulation','processes','foundation','critical','control','candidate','promised','inauguration','anticorruption','executives','publicpolicy','principles','strategic','sharing','governments','federated','elected','framework','schedule','risks','certificate','meritocracy','stakeholders','partnership','society','equality','decisions','structure','implement','commitment','decision','driven','citiesalliance','assessment','corporations','cryptocurrencies','dataprotection']"
   ]
  },
  {
   "cell_type": "code",
   "execution_count": 122,
   "metadata": {},
   "outputs": [
    {
     "data": {
      "text/plain": [
       "150"
      ]
     },
     "execution_count": 122,
     "metadata": {},
     "output_type": "execute_result"
    }
   ],
   "source": [
    "len(set(governance))"
   ]
  },
  {
   "cell_type": "code",
   "execution_count": 117,
   "metadata": {},
   "outputs": [],
   "source": [
    "entrepreneurship = ['freemarket','investors','crypto','financial','accountability','enterprise','assetmanagement','accountable','company','finance','corporate','contractors','workforce','digitalbanking','entrepreneur','newmarket','investment', 'market','coding','startup','development','maker','fintech','economy','business','economic','finance','markets','investing','stocks','investment','gdp','money','financial','economics','trade','crypto','businesses','investors','retail','bitcoin','employment','job','startups','growth','work','entrepreneur','unemployment','entrepreneurship','sales','manufacturing','working','corporate','companies','funds','jobless','cryptocurrency','economicrecovery','smallbusiness','workers','investments','traders','budget','assets','growing','industries','asset','invest','startup','funding','development','currency','banks','monetary','debt','skills','fintech','fiscal','entrepreneurs','deficit','banking','benefits','rates','paying','billing','billingsoftware','earnings','workfromhome','accounting','personalfinance','ratings','accountant','treasury','equities','subsidies','opportunities','profits','stockstowatch','branding','marketing','customer','firms','localbusiness','capitalism','consumers','startup','startups','innovation','mindset','smallbusiness','businessowner','entrepreneurlife','digitalmarketing','management','founder','branding','growth','company','founders','funding','product','businesses','businessgrowth','sales','coaching','investment','entrepreneurial','venture','businessangel','capital','smallbusinessowner','businessman','customers','businesscoach','speaker','finance','market','skills','coding','ecommerce','entrepreneurmindset','startuplife','pitch','onlinebusiness','employment','businesswoman','socialmediamarketing','girlswhocode','crypto','womeninbusiness','investors','selfemployment','accelerator','incubator','designthinking','growthhacking','enterprise','changemakers','startupbusiness','businessideas','mentors','businesscoaching','businessmotivation','businessgoals','ventures','skill','innovators','prototype','growthmindset','pitching','innovations','businesslife','businessstrategy','smallbusinessowners','financial','companies','entrepreneurlifestyle','franchise','manufactures','beyourownboss']"
   ]
  },
  {
   "cell_type": "code",
   "execution_count": 118,
   "metadata": {},
   "outputs": [
    {
     "data": {
      "text/plain": [
       "150"
      ]
     },
     "execution_count": 118,
     "metadata": {},
     "output_type": "execute_result"
    }
   ],
   "source": [
    "len(set(entrepreneurship))"
   ]
  },
  {
   "cell_type": "raw",
   "metadata": {},
   "source": []
  },
  {
   "cell_type": "markdown",
   "metadata": {},
   "source": [
    "# creating a loop with basic NLP steps"
   ]
  },
  {
   "cell_type": "raw",
   "metadata": {},
   "source": [
    "# creating a list of lists to iterate over it\n",
    "datasets = [[civictech,\n",
    "             democracy2,\n",
    "             ecitizenship,\n",
    "             economy,\n",
    "             empowerment,\n",
    "             energy,\n",
    "             entrepreneurship,\n",
    "             environment,\n",
    "             governance,\n",
    "             govtech,\n",
    "             infrastructure,\n",
    "             innovation,\n",
    "             iot,\n",
    "             mobility,\n",
    "             opendata,\n",
    "             smartcity,\n",
    "             smartgrid,\n",
    "             sustainability,\n",
    "             transportation,\n",
    "             urbandevelopment,\n",
    "             urbanplanning]]"
   ]
  },
  {
   "cell_type": "raw",
   "metadata": {},
   "source": [
    "for i in datasets:\n",
    "    print(i, 'has', len(np.unique(i)), 'unique words')"
   ]
  },
  {
   "cell_type": "raw",
   "metadata": {},
   "source": [
    "# creating a dictionary to loop into datasets\n",
    "datasets = {'civictech':civictech,\n",
    "            'democracy2':democracy2,\n",
    "            'ecitizenship':ecitizenship,\n",
    "            'economy':economy,\n",
    "            'empowerment':empowerment,\n",
    "            'energy':energy,\n",
    "            'entrepreneurship':entrepreneurship,\n",
    "            'environment':environment,\n",
    "            'governance':governance,\n",
    "            'govtech':govtech,\n",
    "            'infrastructure':infrastructure,\n",
    "            'innovation':innovation,\n",
    "            'iot':iot,\n",
    "            'mobility':mobility,\n",
    "            'opendata':opendata,\n",
    "            'smartcity':smartcity,\n",
    "            'smartgrid':smartgrid,\n",
    "            'sustainability':sustainability,\n",
    "            'transportation':transportation,\n",
    "            'urbandevelopment':urbandevelopment,\n",
    "            'urbanplanning':urbanplanning}\n",
    "\n",
    "for k in datasets:\n",
    "    print(k)"
   ]
  },
  {
   "cell_type": "raw",
   "metadata": {},
   "source": [
    "# creating a loop to run all NLP tasks\n",
    "a = set(stopwords.words('english'))\n",
    "b = [\"com\",\"#\",'&','!',\"gt\",\"'re\",\"\\n\",\"amp\",\"als\",\"'s\",\"als\", \"etc\",'\\n',\"\\\\n\",'\\\\n\\\\n',']','[','.','...','“',',',\"'\",\"''\",'th','…','“',':',\",\", \".\", \";\", \" \", \":\", \"'\", \"als\", \"&\", \"etc\", \"(\", \")\", \"/\", \"[1-9]\", \"_\", \"-\", \"’\", \"--\", \"``\", \"'s\", \"\"]\n",
    "\n",
    "for k, v in datasets.items():\n",
    "    v = v['content'].tolist()\n",
    "    v = str(v).strip('[]')\n",
    "    v = v.lower()\n",
    "    v = WordNetLemmatizer().lemmatize(v)\n",
    "    v = word_tokenize(v)\n",
    "    v = [word for word in v if word not in a]\n",
    "    v = [word for word in v if word not in b]\n",
    "    v = FreqDist(v)"
   ]
  },
  {
   "cell_type": "raw",
   "metadata": {},
   "source": [
    "# same with pipeline"
   ]
  },
  {
   "cell_type": "raw",
   "metadata": {},
   "source": [
    "for k, v in datasets.items():\n",
    "    print(k, 'has', len(np.unique(v)), 'unique words')"
   ]
  },
  {
   "cell_type": "raw",
   "metadata": {},
   "source": [
    "for k, v in datasets.items():\n",
    "    print(k, 'most common 100 are', FreqDist(v).most_common(100))"
   ]
  },
  {
   "cell_type": "code",
   "execution_count": null,
   "metadata": {},
   "outputs": [],
   "source": []
  }
 ],
 "metadata": {
  "kernelspec": {
   "display_name": "Python 3",
   "language": "python",
   "name": "python3"
  },
  "language_info": {
   "codemirror_mode": {
    "name": "ipython",
    "version": 3
   },
   "file_extension": ".py",
   "mimetype": "text/x-python",
   "name": "python",
   "nbconvert_exporter": "python",
   "pygments_lexer": "ipython3",
   "version": "3.8.3"
  }
 },
 "nbformat": 4,
 "nbformat_minor": 4
}
